{
 "cells": [
  {
   "cell_type": "code",
   "execution_count": 1,
   "id": "99b7182c-94dd-4a1c-9389-78920cece83d",
   "metadata": {},
   "outputs": [],
   "source": [
    "import streamlit as st\n",
    "import pandas as pd\n",
    "import numpy as np\n",
    "\n",
    "import plotly.express as px"
   ]
  },
  {
   "cell_type": "code",
   "execution_count": 2,
   "id": "d46a85e8-25e3-4f44-a2f2-e2921c0d310a",
   "metadata": {},
   "outputs": [],
   "source": [
    "# page config\n",
    "st.set_page_config(page_title='Basic Sales Dashboard', layout='wide')"
   ]
  },
  {
   "cell_type": "code",
   "execution_count": 3,
   "id": "fc691da8-4d01-42b6-b522-d2583bef0a89",
   "metadata": {},
   "outputs": [],
   "source": [
    "# Generate sample data\n",
    "np.random.seed(42)\n",
    "df = pd.DataFrame({\n",
    "    'Date': pd.date_range('2024-01-01', periods=100),\n",
    "    'Sales': np.random.randint(500, 2000, size=100),\n",
    "    'Region': np.random.choice(['North', 'South', 'East', 'West'], size=100),\n",
    "    'Product': np.random.choice(['Product A', 'Product B', 'Product C'], size=100)\n",
    "})"
   ]
  },
  {
   "cell_type": "code",
   "execution_count": 4,
   "id": "5358b18f-dafd-4ef7-b506-f92d261d8215",
   "metadata": {},
   "outputs": [
    {
     "name": "stderr",
     "output_type": "stream",
     "text": [
      "2025-07-02 14:59:52.722 \n",
      "  \u001b[33m\u001b[1mWarning:\u001b[0m to view this Streamlit app on a browser, run it with the following\n",
      "  command:\n",
      "\n",
      "    streamlit run C:\\Users\\John\\Desktop\\venv\\lib\\site-packages\\ipykernel_launcher.py [ARGUMENTS]\n"
     ]
    }
   ],
   "source": [
    "# Sidebar filters\n",
    "st.sidebar.title('Filters')\n",
    "regions = st.sidebar.multiselect('Select region', df['Region'].unique(), default=df['Region'].unique())\n",
    "product = st.sidebar.multiselect('Select product', df['Product'].unique(), default=df['Product'].unique())"
   ]
  },
  {
   "cell_type": "code",
   "execution_count": 5,
   "id": "fb095fa8-8200-4345-8e93-7c3e2c4be914",
   "metadata": {},
   "outputs": [],
   "source": [
    "# filtered df\n",
    "filtered_df = df[(df['Region'].isin(regions) & df['Product'].isin(product))]"
   ]
  },
  {
   "cell_type": "code",
   "execution_count": 6,
   "id": "fb58b0b9-4607-475d-bceb-1dd7cdea6bef",
   "metadata": {},
   "outputs": [
    {
     "data": {
      "text/plain": [
       "DeltaGenerator()"
      ]
     },
     "execution_count": 6,
     "metadata": {},
     "output_type": "execute_result"
    }
   ],
   "source": [
    "# metrics\n",
    "col1, col2, col3 = st.columns(3)\n",
    "col1.metric(\"Total sales\", f\"{filtered_df['Sales'].sum():,}\")\n",
    "col2.metric(\"Average sales\", f\"{filtered_df['Sales'].mean():.0f}\")\n",
    "col3.metric(\"Records\", f\"{len(filtered_df['Sales'])}\")"
   ]
  },
  {
   "cell_type": "code",
   "execution_count": 7,
   "id": "20e58fd3-a142-429c-bb31-729652916623",
   "metadata": {},
   "outputs": [],
   "source": [
    "# Charts\n",
    "col1, col2 = st.columns(2)\n",
    "with col1 :\n",
    "    figline = px.line(filtered_df, x='Date', y='Sales', color='Region', title='Sales Over Time')\n",
    "    st.plotly_chart(figline, use_container_width=True)\n",
    "with col2 :\n",
    "    df_by_region = filtered_df.groupby('Region')['Sales'].sum().reset_index()\n",
    "    figbar = px.bar(df_by_region, x='Region', y='Sales', title='Total Sales By Region')\n",
    "    st.plotly_chart(figbar, use_container_width=True)    "
   ]
  },
  {
   "cell_type": "code",
   "execution_count": 8,
   "id": "59bce3c7-d862-4a9b-8468-6123a04cd1c1",
   "metadata": {},
   "outputs": [
    {
     "data": {
      "text/plain": [
       "DeltaGenerator()"
      ]
     },
     "execution_count": 8,
     "metadata": {},
     "output_type": "execute_result"
    }
   ],
   "source": [
    "# Display Dataframe\n",
    "st.subheader(\"DataFrame\")\n",
    "st.dataframe(filtered_df)"
   ]
  },
  {
   "cell_type": "code",
   "execution_count": 9,
   "id": "62d06d08-4bb7-4782-a593-b9ad31f056b4",
   "metadata": {},
   "outputs": [],
   "source": [
    "file = st.file_uploader(\"Choose a file\")"
   ]
  },
  {
   "cell_type": "code",
   "execution_count": 10,
   "id": "89a71fc5-0b25-4ff0-ac16-1208c4cd83c7",
   "metadata": {},
   "outputs": [],
   "source": [
    "from PIL import Image, ImageDraw\n",
    "if file is not None:\n",
    "    # Ouvrir l'image\n",
    "    img = Image.open(file)\n",
    "\n",
    "    # Redimensionner l'image à 500 pixels de largeur tout en conservant les proportions\n",
    "    width, height = img.size\n",
    "    new_width = 500\n",
    "    new_height = int((new_width / width) * height)\n",
    "    img = img.resize((new_width, new_height))"
   ]
  }
 ],
 "metadata": {
  "kernelspec": {
   "display_name": "Python 3 (ipykernel)",
   "language": "python",
   "name": "python3"
  },
  "language_info": {
   "codemirror_mode": {
    "name": "ipython",
    "version": 3
   },
   "file_extension": ".py",
   "mimetype": "text/x-python",
   "name": "python",
   "nbconvert_exporter": "python",
   "pygments_lexer": "ipython3",
   "version": "3.9.13"
  }
 },
 "nbformat": 4,
 "nbformat_minor": 5
}
